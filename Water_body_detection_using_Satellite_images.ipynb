{
  "nbformat": 4,
  "nbformat_minor": 0,
  "metadata": {
    "colab": {
      "provenance": []
    },
    "kernelspec": {
      "name": "python3",
      "display_name": "Python 3"
    },
    "language_info": {
      "name": "python"
    }
  },
  "cells": [
    {
      "cell_type": "code",
      "source": [
        "import os\n",
        "root_dir = '/content/drive/MyDrive/'\n",
        "files = os.listdir(root_dir)\n",
        "print(files)\n"
      ],
      "metadata": {
        "colab": {
          "base_uri": "https://localhost:8080/"
        },
        "id": "zuhaBOAtj0cv",
        "outputId": "1c1a8d7f-3f53-4c79-ab18-2ca8a7e19262"
      },
      "execution_count": null,
      "outputs": [
        {
          "output_type": "stream",
          "name": "stdout",
          "text": [
            "['Untitled presentation (2).gslides', 'connections.json.gdoc', 'eco coll.gdoc', 'Untitled spreadsheet (3).gsheet', 'Untitled spreadsheet (2).gsheet', 'Jaipuria confessions.gform', 'jaipuria cons.gform', 'Confess.gform', 'CMSMUN 2019 Jaipuria delegation.gsheet', 'GA BG (2).gdoc', 'GA BG (1).gdoc', 'Chits via eb.gsheet', 'SPEECHES.gdoc', 'BVC RESEARCH.gdoc', 'dns (1).gdoc', 'dns.gdoc', 'JP write up.gdoc', 'Untitled drawing.gdraw', 'Crossword elixir (1).gdoc', 'Crossword elixir.gdoc', 'unsolved crossword 1.gsheet', 'unsolved crossword 1 bahut zyada main.gform', 'unsolved crossword 1 bahut zyada main.gsheet', 'ELIXIR CROSSWORD (1).gsheet', 'ELIXIR INTRO.gdoc', 'gsl LMUN.gdoc', 'UNCRS.gdoc', 'UNGA matrix.gsheet', 'ELIXIR CROSSWORD.gsheet', 'WHO Collaboration Final 2020 (1).gdoc', 'WHO Collaboration Final 2020.gdoc', 'HALO collab.gdoc', 'Classroom', 'INSTALLL NOTE (2).gdoc', 'INSTALLL NOTE (1).gdoc', 'INSTALLL NOTE.gdoc', 'Untitled document (18).gdoc', 'iLovePDF', 'Schedule.gdoc', 'DPSEMUN 2019 Jaipuria Delegation.gsheet', 'Invoice_-_Rajeev_Sharma_-_752.gdoc', 'Invoice_-_Balwant_Rai_-_756.gdoc', 'Image (6) (2) (2).gdoc', 'Image (6) (2) (1).gdoc', 'Image (6) (2).gdoc', 'Invoice_-_Neeraj_Srivastava_-_777.gdoc', 'Invoice_-_Dalveer_Singh_-_780__hdfc_bank_.gdoc', 'Invoice_-_Madhukeshav_Sharma_-_781__hdfc_bank_.gdoc', 'Job_Planet-New_Contract_Draft-Corrected (1).gdoc', 'Job_Planet-New_Contract_Draft-Corrected.gdoc', 'Invoice_Excel_Job_Planet.gsheet', 'friends.gdoc', 'English Literature project.gdoc', 'English Language Project.gdoc', 'Draft_for_E-invoice_confirmation_from_Vendor_Huawei_JOB PLANET.gdoc', 'Flexcube_Acc_Credit_Authority_Letter-NEW (2).gdoc', 'Flexcube_Acc_Credit_Authority_Letter-NEW (1).gdoc', 'Flexcube_Acc_Credit_Authority_Letter-NEW.gdoc', 'Computer Project (1).gdoc', 'english language first quaterlies set A.gdoc', 'Untitled document (17).gdoc', 'John brown.gdoc', 'Untitled spreadsheet (1).gsheet', 'Mathematics Project.gdoc', 'The Spider and the Fly .gdoc', 'Dolphins.gdoc', 'viva answers.gdoc', 'The gift of India.gdoc', 'The Chinese Statue by Jeffry Archer.gdoc', 'SOUND MACHINE.gdoc', 'Exam_Admit_card lovely professional.gdoc', 'Untitled Jam.gjam', 'Computer Project.gdoc', 'summarise the events that took place in the harpy scene.gdoc', 'S.U.P.W.gdoc', 'UNGA DISEC BG.gdoc', 'UNGA DISEC.gdoc', 'Untitled document (16).gdoc', 'Untitled document (15).gdoc', 'GTA 5.gdoc', 'Germany.gdoc', 'resume - Soulful Aman.xlsx', 'kshit pics', 'Copy of IMG20221209171841.jpg', 'IMG20221210220535.jpg', 'IMG20221210220538.jpg', 'IMG20221210220548.jpg', 'IMG20221210220555.jpg', 'IMG20221210220557.jpg', 'Snapchat-528894509.mp4', 'VID20221210220237.mp4', 'VID20221210220314.mp4', 'Untitled document (14).gdoc', 'SOL 207.gdoc', 'WINSEM2022-23_BCSE205L_TH_VL2022230502956_Reference_Material_I_08-12-2022_two_Introduction.pptx', 'WINSEM2022-23_BCSE205L_TH_VL2022230502956_Reference_Material_II_08-12-2022_one_Introduction (1).pptx', 'WINSEM2022-23_BCSE205L_TH_VL2022230502956_Reference_Material_I_08-12-2022_two_Introduction (1).pptx', 'WINSEM2022-23_BCSE205L_TH_VL2022230502956_Reference_Material_I_12-12-2022_IAS_computer_instnformats (1) (1).pptx', 'WINSEM2022-23_BCSE205L_TH_VL2022230502956_Reference_Material_I_12-12-2022_IAS_computer_instnformats (1).pptx', 'WINSEM2022-23_BMAT202L_TH_VL2022230500664_Reference_Material_I_23-12-2022_Module_1-SE.pptx', '1-Module -1 Consolidated-14-09-2021.pptx', 'WINSEM2022-23_BCSE205L_TH_VL2022230502956_Reference_Material_I_13-12-2022_Registers.ppt', 'WINSEM2022-23_BCSE205L_TH_VL2022230502956_Reference_Material_I_12-12-2022_IAS_computer_instnformats (2).pptx', 'WINSEM2022-23_BCSE205L_TH_VL2022230502956_Reference_Material_I_15-12-2022_Harvard_Architecture.pptx', 'WINSEM2022-23_BCSE205L_TH_VL2022230502956_Reference_Material_II_15-12-2022_1.3_RISC_and_CISC_Architecture (1).pptx', 'WINSEM2022-23_BCSE205L_TH_VL2022230502956_Reference_Material_II_15-12-2022_1.3_RISC_and_CISC_Architecture.pptx', 'WINSEM2022-23_BCSE205L_TH_VL2022230502956_Reference_Material_I_20-12-2022_Boothalg1.ppt', 'WINSEM2022-23_BCSE205L_TH_VL2022230502956_Reference_Material_I_22-12-2022_ModifiedBooths.pptx', 'WINSEM2022-23_BCSE205L_TH_VL2022230502956_Reference_Material_I_05-01-2023_module_2_Division_algorithms.pptx', 'WINSEM2022-23_BCSE205L_TH_VL2022230502957_Reference_Material_I_10-01-2023_FloatingpointNumberRepresentations.ppt', 'WINSEM2022-23_BMAT202L_TH_VL2022230500860_Reference_Material_I_21-12-2022_Module_1-SE.pptx', 'WINSEM2022-23_BMAT202L_TH_VL2022230500860_Reference_Material_I_13-01-2023_Module_2_SE-Expectation.pptx', 'WINSEM2022-23_BMAT202L_TH_VL2022230500860_Reference_Material_I_11-01-2023_Module_2-SE.pptx', 'WINSEM2022-23_BCSE204L_TH_VL2022230502904_Reference_Material_I_08-12-2022_Overview_of_algorithm_and_stages_of_algorithm_development.pptx', 'WINSEM2022-23_BCSE204L_TH_VL2022230502904_Reference_Material_I_13-12-2022_Order_of_growth_and_Analysis_of__Recursive_and_Non_recursive_functions.pptx', 'WINSEM2022-23_BCSE204L_TH_VL2022230502903_Reference_Material_I_22-12-2022_Divide_and_Conquer.pptx', 'WINSEM2022-23_BCSE204L_TH_VL2022230502904_Reference_Material_I_09-01-2023_Dynamic_Programming-Assembly_line_Scheduling.pptx', 'WINSEM2022-23_BCSE204L_TH_VL2022230502903_Reference_Material_I_10-01-2023_Dynamic_Programming-Matrix_chain_multiplication.pptx', 'WINSEM2022-23_BCSE204L_TH_VL2022230502904_Reference_Material_I_12-01-2023_Dynamic_Programming-Longest_common_subsequence_and_0_1_Knapsack.pptx', 'WINSEM2022-23_BCSE204L_TH_VL2022230502904_Reference_Material_I_19-01-2023_Backtracking-_N-Queens_problem__Subset_Sum__Graph_Coloring.pptx', '21BCB0075 DAA lab da.gdoc', '21BCB0075 DA physics.gdoc', 'Untitled document (13).gdoc', 'DIGITAL ASSIGNMENT 2.docx', 'Untitled document (12).gdoc', 'resume.docx', 'Untitled document (11).gdoc', 'Job planet.gdoc', 'GA BG.gdoc', '21BCB0075 (1).gdoc', 'WINSEM2022-23_BCSE205L_TH_VL2022230502957_Reference_Material_I_06-02-2023_Memoryorganisation (2).ppt', 'WINSEM2022-23_BCSE205L_TH_VL2022230502957_Reference_Material_I_06-02-2023_Memoryorganisation.ppt', 'WINSEM2022-23_BCSE205L_TH_VL2022230502957_Reference_Material_II_06-02-2023_MemoryKeyCharacteristics.ppt', 'WINSEM2022-23_BCSE205L_TH_VL2022230502957_Reference_Material_I_13-02-2023_MemoryDesign.ppt', 'em.gdoc', 'WINSEM2022-23_BCSE204L_TH_VL2022230502904_ReferenceMaterialI_TueJan3100_00_00IST2023_BranchBoundLIFO-BBandFIFOBBmethods-JobSelectionproblem0-1KnapsackProblem.pptx', 'WINSEM2022-23_BCSE205L_TH_VL2022230502957_Reference_Material_I_12-01-2023_instruction_types(1).ppt', 'WINSEM2022-23_BCSE205L_TH_VL2022230502957_Reference_Material_I_30-01-2023_AddressingModes.ppt', 'WINSEM2022-23_BCSE205L_TH_VL2022230502957_Reference_Material_I_06-02-2023_Memoryorganisation (1).ppt', 'WINSEM2022-23_BCSE205L_TH_VL2022230502957_Reference_Material_I_19-01-2023_instruction_format.pptx', 'WINSEM2022-23_BCSE205L_TH_VL2022230502957_ReferenceMaterialI_MonMar0600_00_00IST2023_ProcessorPerformance.pptx', 'WINSEM2022-23_BCSE205L_TH_VL2022230502957_Reference_Material_II_06-02-2023_MemoryKeyCharacteristics (3).ppt', 'WINSEM2022-23_BCSE205L_TH_VL2022230502957_Reference_Material_I_13-02-2023_MemoryDesign (1).ppt', 'WINSEM2022-23_BCSE205L_TH_VL2022230502957_ReferenceMaterialI_ThuFeb1600_00_00IST2023_module4MemoryInterleaving.pptx', 'WINSEM2022-23_BCSE205L_TH_VL2022230502957_ReferenceMaterialI_MonFeb2000_00_00IST2023_CacheMemory.pptx', 'WINSEM2022-23_BCSE204L_TH_VL2022230502904_ReferenceMaterialI_TueJan3100_00_00IST2023_BranchBoundLIFO-BBandFIFOBBmethods-JobSelectionproblem0-1KnapsackProblem (1).gslides', 'WINSEM2022-23_BCSE204L_TH_VL2022230502886_Reference_Material_I_04-02-2023_Lecture_8_new.gslides', '21BCE3370_VL2022230504134_AST03.gdoc', '21BCB0075 DAA Da lab.gdoc', 'B.Tech CSE spl in Bioinformatics-2 (1).gsheet', 'CAO- Digital Assignment.gdoc', 'Aman (2).gsheet', 'Untitled document (10).gdoc', 'Inductions.gsheet', 'Untitled spreadsheet.gsheet', 'Inductions.xlsx', 'good and improving.gdoc', 'Prob Da lab 21BCB0075.gdoc', 'Untitled document (9).gdoc', 'WINSEM2022-23_BCSE205L_TH_VL2022230502957_2023-02-16_Reference-Material-I.gslides', 'WINSEM2022-23_BCSE205L_TH_VL2022230502957_2023-02-13_Reference-Material-I.gslides', 'GRAMMARIAN.gdoc', 'Aman Sharma Summer Inter. (1).pdf', 'Aman Sharma Summer Inter..pdf', 'Aman Sharma Summer Inter. (1).docx', 'Aman Sharma Summer Inter..docx', '23-Convex Hull finding algorithms_ Graham’s Scan-28-02-2023.gslides', 'Untitled presentation (1).gslides', '24-Jarvis March-02-03-2023.gslides', '22-sweeping lines-21-02-2023.gslides', '14-Normal Distribution-12-01-2023.gslides', 'WINSEM2022-23_BCSE204L_TH_VL2022230502876_2023-02-28_Reference-Material-I.gslides', 'WINSEM2022-23_BCSE204L_TH_VL2022230502876_2023-03-06_Reference-Material-I.gslides', 'WINSEM2022-23_BCSE204L_TH_VL2022230502876_2023-03-07_Reference-Material-I.gslides', 'DAA.gdoc', 'WINSEM2022-23_BCSE205L_TH_VL2022230502966_2023-04-10_Reference-Material-I.gslides', 'Untitled document (8).gdoc', '10-Mathematical Proof Techniques-23-12-2022 (1).gslides', '1-Design of an algorithm, Derive Time Complexity, Proof of Correctness of the algorithm, Illustration-12-12-2022.gslides', '2-Greedy techniques_ Fractional Knapsack Problem, and Huffman coding-13-12-2022.gslides', '3-Divide and Conquer_ Maximum Subarray-15-12-2022.gslides', '4-Karatsuba faster integer multiplication algorithm-19-12-2022.gslides', '7-longest common subsequence-05-01-2023.gslides', '8-Backtracking_ N-Queens problem-09-01-2023.gslides', '10-Graph Coloring-12-01-2023.gslides', '11-Branch & Bound_ Job Selection problem, 0-1 Knapsack Problem-19-01-2023.gslides', '12-Naïve String-matching Algorithms-30-01-2023.gslides', '13-KMP Algorithm-31-01-2023.gslides', '14-Rabin-Karp Algorithm-02-02-2023.gslides', '15-Suffix Tree-04-02-2023.gslides', '16-All pair shortest path_ Bellman Ford Algorithm-06-02-2023.gslides', '17-Floyd-Warshall Algorithm-07-02-2023.gslides', '19-Edmond-Karp-13-02-2023.gslides', '20-Push Re-label Algorithm-14-02-2023.gslides', '24-Jarvis March-02-03-2023 (1).gslides', '26-The Hiring Problem-07-03-2023.gslides', '27-Finding the global minimum cut-09-03-2023.gslides', '29-Clique-06-04-2023.gslides', '31-Approximation Algorithm-Vertex Cover-11-04-2023.gslides', '6-Matrix-chain multiplication-22-12-2022.gslides', '9-Subset Sum-10-01-2023.gslides', '18-Network Flows_ Flow Networks, Maximum Flows_ Ford-Fulkerson-09-02-2023.gslides', '22-sweeping lines-21-02-2023 (1).gslides', '23-Convex Hull finding algorithms_ Graham’s Scan-28-02-2023 (1).gslides', '25-Module 6-Randomized quick sort-06-03-2023.gslides', '6-Fifth module notes-06-03-2023.gslides', 'Untitled document (7).gdoc', 'OneDrive_1_5-2-2023.zip', 'OneDrive_1_5-2-2023.zip (Unzipped Files)', 'parity 1A.gdoc', 'BCSE308P-Ex-1-A QP.gdoc', 'Networking Commands.gdoc', '21BCB0075.gdoc', 'Colab Notebooks', '1-Data Communications and Networking_ A Communications Model-24-04-2023 (1).gslides', '3-Requirements , Applications, Network Topology-27-04-2023.gslides', '5-Network Models -OSI-03-05-2023.gslides', '6-Network Models -TCP_IP-04-05-2023.gslides', '7-Network Models -TCP_IP-04-05-2023.gslides', 'Untitled document (6).gdoc', '4-Line configuration, Data Flow, Protocols and Standards-29-04-2023.gslides', 'Ex4.gdoc', 'Ex5.gdoc', '21BCB0075 Database Lab DA 1.gdoc', 'Untitled document (5).gdoc', 'hamming code 21BCB0075.gdoc', '2-Data Communications - Evolution of network-26-04-2023.gslides', '12-Mod-2_ Switched Communications Networks – Circuit Switching – Packet Switching-10-05-2023 (2).gslides', '12-Mod-2_ Switched Communications Networks – Circuit Switching – Packet Switching-10-05-2023.gslides', '13-Mod-2_ Switched Communications Networks – Circuit Switching – Packet Switching-10-05-2023.gslides', '14-Comparison of Circuit Switching and Packet Switching-11-05-2023.gslides', '15-Comparison of Circuit Switching and Packet Switching-11-05-2023.gslides', '16-Networking Parameters(Transmission Impairment, Data Rate and Performance)-13-05-2023.gslides', '18-Practice Problems on Switching-17-05-2023.gslides', 'Untitled document (4).gdoc', '6-Practice Problems - LL(1) parser-16-05-2023 (1).gslides', '7-Operator Precedence Parser-23-05-2023 (1).gslides', '3-Introduction to NFA, DFA and Thompson construction method-03-05-2023.gslides', '5-Introduction to Parsing and Context Free Grammar-09-05-2023 (2).gslides', '5-Introduction to Parsing and Context Free Grammar-09-05-2023 (1).gslides', '1-Phases of compiler-26-04-2023.gslides', '4-Regular expression to Deterministic Finite Automata (Direct method)-05-05-2023 (1).gslides', '3-M1-26-04-2023.gslides', '9-M3-17-05-2023.gdoc', '4-Abstractions, processes, resources-29-04-2023.gslides', '5-System calls, System_Application Call Interface-02-05-2023.gslides', '6-Protection_ User_Kernel modes - Interrupts-04-05-2023.gslides', '7-Protection_ User_Kernel modes - Interrupts-04-05-2023.gslides', '8-Processes - Structures (Process Control Block, Ready List etc.), Process creation, management in Uni-06-05-2023.gslides', '9-Threads_ User level, kernel level threads and thread models.-08-05-2023.gslides', '10-Processes Scheduling-09-05-2023.gslides', 'passwords.gsheet', '3-Introduction to OS-24-04-2023.gslides', 'Untitled document (3).gdoc', '1-Unnamed-24-04-2023 (2).gslides', '3-Unnamed-24-04-2023.gslides', '4-Unnamed-04-05-2023.gslides', '5-Unnamed-06-05-2023.gslides', '6-Unnamed-08-05-2023.gslides', '2-Unnamed-24-04-2023.gslides', 'sts.gdoc', '2-Design Issues, Patterns, Lexemes, Tokens-28-04-2023.gdoc', '3-Introduction to NFA, DFA and Thompson construction method-03-05-2023 (1).gslides', '4-Regular expression to Deterministic Finite Automata (Direct method)-05-05-2023.gslides', 'Untitled presentation.gslides', '6-Practice Problems - LL(1) parser-16-05-2023.gslides', '9-Removal of ambiguity, precedence and associativity-26-05-2023.gdoc', '7-Operator Precedence Parser-23-05-2023.gslides', '1-Unnamed-24-04-2023.gslides', '4-Unnamed-04-05-2023 (1).gslides', '1-Unnamed-24-04-2023 (1) (1).gslides', '5-Unnamed-06-05-2023 (1).gslides', '2-Unnamed-24-04-2023 (1).gslides', '1-Unnamed-24-04-2023 (1).gslides', '3-Unnamed-24-04-2023 (1).gslides', '6-Unnamed-08-05-2023 (1).gslides', 'Untitled document (2).gdoc', '1-Phases of compiler-26-04-2023 (1).gslides', '5-Introduction to Parsing and Context Free Grammar-09-05-2023.gslides', '8-Practice problems on operator precedence parser-24-05-2023.gdoc', '1-Data Communications and Networking_ A Communications Model-24-04-2023.gslides', '3-Requirements , Applications, Network Topology-27-04-2023 (1).gslides', '4-Line configuration, Data Flow, Protocols and Standards-29-04-2023 (2).gslides', '6-Network Models -TCP_IP-04-05-2023 (1).gslides', '12-Mod-2_ Switched Communications Networks – Circuit Switching – Packet Switching-10-05-2023 (1).gslides', '13-Mod-2_ Switched Communications Networks – Circuit Switching – Packet Switching-10-05-2023 (1).gslides', '14-Comparison of Circuit Switching and Packet Switching-11-05-2023 (1).gslides', '15-Comparison of Circuit Switching and Packet Switching-11-05-2023 (1).gslides', '16-Networking Parameters(Transmission Impairment, Data Rate and Performance)-13-05-2023 (1).gslides', '18-Practice Problems on Switching-17-05-2023 (1).gslides', '10-Mod3_Error Detection and Correction – Hamming Code , CRC, Checksum--08-05-2023 (1).gdoc', '11-Mod3_Error Detection and Correction – Hamming Code , CRC, Checksum--08-05-2023 (1).gslides', '2-Data Communications - Evolution of network-26-04-2023 (2).gslides', '7-Network Models -TCP_IP-04-05-2023 (1).gslides', '17-Problems on Switching-15-05-2023 (2).gdoc', '5-Network Models -OSI-03-05-2023 (1).gslides', 'Untitled document (1).gdoc', '2-Unnamed-04-05-2023.gslides', '3-Unnamed-11-05-2023.gslides', '6-Unnamed-01-06-2023.gslides', '4-Unnamed-18-05-2023.gslides', '5-Module 2-25-05-2023.gslides', '1-Introduction to ISAA. Discussion on Internal Assessment components-27-04-2023.gslides', 'Untitled document.gdoc', 'Hue vs DW (1).gsheet', 'IOP_AOP_IOCCG dataset.gsheet', 'Hue vs DW.gsheet', 'cie.15.2004.tables.gsheet', 'archive (1).zip']\n"
          ]
        }
      ]
    },
    {
      "cell_type": "code",
      "execution_count": null,
      "metadata": {
        "colab": {
          "base_uri": "https://localhost:8080/",
          "height": 373
        },
        "id": "IsKIy3TrS16z",
        "outputId": "78025896-6e95-4a41-ffa1-5916d67ede23"
      },
      "outputs": [
        {
          "output_type": "stream",
          "name": "stdout",
          "text": [
            "Drive already mounted at /content/drive; to attempt to forcibly remount, call drive.mount(\"/content/drive\", force_remount=True).\n"
          ]
        },
        {
          "output_type": "error",
          "ename": "FileNotFoundError",
          "evalue": "ignored",
          "traceback": [
            "\u001b[0;31m---------------------------------------------------------------------------\u001b[0m",
            "\u001b[0;31mFileNotFoundError\u001b[0m                         Traceback (most recent call last)",
            "\u001b[0;32m<ipython-input-12-1dccb9038609>\u001b[0m in \u001b[0;36m<cell line: 20>\u001b[0;34m()\u001b[0m\n\u001b[1;32m     18\u001b[0m \u001b[0;34m\u001b[0m\u001b[0m\n\u001b[1;32m     19\u001b[0m \u001b[0;31m# Step 4: Extract the zip file\u001b[0m\u001b[0;34m\u001b[0m\u001b[0;34m\u001b[0m\u001b[0m\n\u001b[0;32m---> 20\u001b[0;31m \u001b[0;32mwith\u001b[0m \u001b[0mZipFile\u001b[0m\u001b[0;34m(\u001b[0m\u001b[0mzip_path\u001b[0m\u001b[0;34m,\u001b[0m \u001b[0;34m'r'\u001b[0m\u001b[0;34m)\u001b[0m \u001b[0;32mas\u001b[0m \u001b[0mzip_ref\u001b[0m\u001b[0;34m:\u001b[0m\u001b[0;34m\u001b[0m\u001b[0;34m\u001b[0m\u001b[0m\n\u001b[0m\u001b[1;32m     21\u001b[0m     \u001b[0mzip_ref\u001b[0m\u001b[0;34m.\u001b[0m\u001b[0mextractall\u001b[0m\u001b[0;34m(\u001b[0m\u001b[0mtarget_folder\u001b[0m\u001b[0;34m)\u001b[0m\u001b[0;34m\u001b[0m\u001b[0;34m\u001b[0m\u001b[0m\n\u001b[1;32m     22\u001b[0m \u001b[0;34m\u001b[0m\u001b[0m\n",
            "\u001b[0;32m/usr/lib/python3.10/zipfile.py\u001b[0m in \u001b[0;36m__init__\u001b[0;34m(self, file, mode, compression, allowZip64, compresslevel, strict_timestamps)\u001b[0m\n\u001b[1;32m   1249\u001b[0m             \u001b[0;32mwhile\u001b[0m \u001b[0;32mTrue\u001b[0m\u001b[0;34m:\u001b[0m\u001b[0;34m\u001b[0m\u001b[0;34m\u001b[0m\u001b[0m\n\u001b[1;32m   1250\u001b[0m                 \u001b[0;32mtry\u001b[0m\u001b[0;34m:\u001b[0m\u001b[0;34m\u001b[0m\u001b[0;34m\u001b[0m\u001b[0m\n\u001b[0;32m-> 1251\u001b[0;31m                     \u001b[0mself\u001b[0m\u001b[0;34m.\u001b[0m\u001b[0mfp\u001b[0m \u001b[0;34m=\u001b[0m \u001b[0mio\u001b[0m\u001b[0;34m.\u001b[0m\u001b[0mopen\u001b[0m\u001b[0;34m(\u001b[0m\u001b[0mfile\u001b[0m\u001b[0;34m,\u001b[0m \u001b[0mfilemode\u001b[0m\u001b[0;34m)\u001b[0m\u001b[0;34m\u001b[0m\u001b[0;34m\u001b[0m\u001b[0m\n\u001b[0m\u001b[1;32m   1252\u001b[0m                 \u001b[0;32mexcept\u001b[0m \u001b[0mOSError\u001b[0m\u001b[0;34m:\u001b[0m\u001b[0;34m\u001b[0m\u001b[0;34m\u001b[0m\u001b[0m\n\u001b[1;32m   1253\u001b[0m                     \u001b[0;32mif\u001b[0m \u001b[0mfilemode\u001b[0m \u001b[0;32min\u001b[0m \u001b[0mmodeDict\u001b[0m\u001b[0;34m:\u001b[0m\u001b[0;34m\u001b[0m\u001b[0;34m\u001b[0m\u001b[0m\n",
            "\u001b[0;31mFileNotFoundError\u001b[0m: [Errno 2] No such file or directory: '/content/drive/MyDrive/archive.zip'"
          ]
        }
      ],
      "source": [
        "import os\n",
        "import shutil\n",
        "from zipfile import ZipFile\n",
        "from google.colab import drive\n",
        "import numpy as np\n",
        "from skimage import io, color, feature\n",
        "from sklearn.ensemble import RandomForestClassifier\n",
        "import matplotlib.pyplot as plt\n",
        "\n",
        "# Step 1: Mount Google Drive\n",
        "drive.mount('/content/drive')\n",
        "\n",
        "# Step 2: Path to the uploaded zip file in Google Drive\n",
        "zip_path = \"/content/drive/MyDrive/archive.zip\"\n",
        "\n",
        "# Step 3: Path to the target location for extracting the zip file\n",
        "target_folder = \"/content/dataset\"\n",
        "\n",
        "# Step 4: Extract the zip file\n",
        "with ZipFile(zip_path, 'r') as zip_ref:\n",
        "    zip_ref.extractall(target_folder)\n",
        "\n",
        "# Step 5: Preprocessing and Feature Extraction\n",
        "def preprocess_image(image):\n",
        "    # Convert to grayscale\n",
        "    image_gray = color.rgb2gray(image)\n",
        "    return image_gray\n",
        "\n",
        "def extract_features(image):\n",
        "    # Extract features using texture analysis (using Local Binary Patterns)\n",
        "    lbp = feature.local_binary_pattern(image, P=8, R=1, method='uniform')\n",
        "    hist, _ = np.histogram(lbp.ravel(), bins=np.arange(0, 10), range=(0, 10))\n",
        "    return hist\n",
        "\n",
        "# Step 6: Model Training\n",
        "def train_model(data_dir):\n",
        "    image_paths = []\n",
        "    labels = []\n",
        "\n",
        "    images_dir = os.path.join(data_dir, \"Water Bodies Dataset\", \"Images\")\n",
        "    masks_dir = os.path.join(data_dir, \"Water Bodies Dataset\", \"Masks\")\n",
        "\n",
        "    for filename in os.listdir(images_dir):\n",
        "        if filename.endswith('.jpg'):\n",
        "            image_paths.append(os.path.join(images_dir, filename))\n",
        "            if 'water' in filename:\n",
        "                labels.append(1)  # Water\n",
        "            else:\n",
        "                labels.append(0)  # Non-water\n",
        "\n",
        "    features = []\n",
        "    for image_path in image_paths:\n",
        "        # Read and preprocess the image\n",
        "        image = io.imread(image_path)\n",
        "        image_gray = preprocess_image(image)\n",
        "\n",
        "        # Extract features from the preprocessed image\n",
        "        image_features = extract_features(image_gray)\n",
        "\n",
        "        features.append(image_features)\n",
        "\n",
        "    # Train a Random Forest Classifier\n",
        "    clf = RandomForestClassifier(n_estimators=100, random_state=42)\n",
        "    clf.fit(features, labels)\n",
        "\n",
        "    return clf\n",
        "\n",
        "# Step 7: Water Detection\n",
        "def detect_water(image_path, clf):\n",
        "    # Read the image\n",
        "    image = io.imread(image_path)\n",
        "\n",
        "    # Preprocess the image\n",
        "    image_gray = preprocess_image(image)\n",
        "\n",
        "    # Extract features from the preprocessed image\n",
        "    image_features = extract_features(image_gray)\n",
        "\n",
        "    # Predict the water label using the trained classifier\n",
        "    prediction = clf.predict([image_features])\n",
        "\n",
        "    # Display the result\n",
        "    plt.imshow(image)\n",
        "    plt.title(\"Water Detection Result: {}\".format(\"Water\" if prediction == 1 else \"Non-Water\"))\n",
        "    plt.show()\n",
        "\n",
        "# Step 8: Usage\n",
        "data_dir = \"/content/dataset\"  # Path to the extracted dataset folder\n",
        "\n",
        "# Train the model\n",
        "clf = train_model(data_dir)\n",
        "\n",
        "# Provide an example image path for water detection\n",
        "example_image_path = os.path.join(data_dir, \"Water Bodies Dataset\", \"Images\", \"example_image.jpg\")\n",
        "detect_water(example_image_path, clf)\n"
      ]
    },
    {
      "cell_type": "code",
      "source": [
        "file_list = os.listdir('/content/drive/MyDrive/')\n",
        "print(file_list)"
      ],
      "metadata": {
        "id": "ylDuXVlSj0bi"
      },
      "execution_count": null,
      "outputs": []
    },
    {
      "cell_type": "code",
      "source": [],
      "metadata": {
        "id": "3w2tVTFjTzx7"
      },
      "execution_count": null,
      "outputs": []
    }
  ]
}